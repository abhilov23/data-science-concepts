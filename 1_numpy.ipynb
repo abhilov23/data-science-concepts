{
 "cells": [
  {
   "cell_type": "code",
   "execution_count": null,
   "id": "cbdcd77a",
   "metadata": {},
   "outputs": [],
   "source": [
    "import numpy as np"
   ]
  },
  {
   "cell_type": "code",
   "execution_count": null,
   "id": "317d559a",
   "metadata": {},
   "outputs": [],
   "source": [
    "mylist = [1,2,3]"
   ]
  },
  {
   "cell_type": "code",
   "execution_count": null,
   "id": "f687d22c",
   "metadata": {},
   "outputs": [],
   "source": [
    "type(mylist)"
   ]
  },
  {
   "cell_type": "code",
   "execution_count": null,
   "id": "c6b7ade0",
   "metadata": {},
   "outputs": [],
   "source": [
    "np.array(mylist)"
   ]
  },
  {
   "cell_type": "code",
   "execution_count": null,
   "id": "2b990535",
   "metadata": {},
   "outputs": [],
   "source": [
    "mylist"
   ]
  },
  {
   "cell_type": "code",
   "execution_count": null,
   "id": "850f9d02",
   "metadata": {},
   "outputs": [],
   "source": [
    "myarray = np.array(mylist)"
   ]
  },
  {
   "cell_type": "code",
   "execution_count": null,
   "id": "341a2e71",
   "metadata": {},
   "outputs": [],
   "source": [
    "type(myarray)"
   ]
  },
  {
   "cell_type": "code",
   "execution_count": null,
   "id": "2319b493",
   "metadata": {},
   "outputs": [],
   "source": [
    "my_matrix = [[1,2,3],[4,5,6],[7,8,9]]"
   ]
  },
  {
   "cell_type": "code",
   "execution_count": null,
   "id": "ef98fe35",
   "metadata": {},
   "outputs": [],
   "source": [
    "my_matrix"
   ]
  },
  {
   "cell_type": "code",
   "execution_count": null,
   "id": "1a89062f",
   "metadata": {},
   "outputs": [],
   "source": [
    "np.array(my_matrix)"
   ]
  },
  {
   "cell_type": "code",
   "execution_count": null,
   "id": "844db99b",
   "metadata": {},
   "outputs": [],
   "source": [
    "np.arange(0,100, 5)  #the 5 is the step size"
   ]
  },
  {
   "cell_type": "code",
   "execution_count": null,
   "id": "1c12f6c7",
   "metadata": {},
   "outputs": [],
   "source": [
    "np.zeros(5) #create an array of 5 zeros\n",
    "\n",
    "np.zeros((2,3)) #create a 2x3 array of zeros"
   ]
  },
  {
   "cell_type": "code",
   "execution_count": null,
   "id": "a8cc90c4",
   "metadata": {},
   "outputs": [],
   "source": [
    "np.ones(5) #creating an array of 5 ones"
   ]
  },
  {
   "cell_type": "code",
   "execution_count": null,
   "id": "1f711f43",
   "metadata": {},
   "outputs": [],
   "source": [
    "#starting-point, ending-point, number-of-elements\n",
    "np.linspace(0,10,11) #create an array of 10 evenly spaced numbers between 0 and 5"
   ]
  },
  {
   "cell_type": "code",
   "execution_count": null,
   "id": "1f60586e",
   "metadata": {},
   "outputs": [],
   "source": [
    "np.eye(5) #create a 5x5 identity matrix"
   ]
  },
  {
   "cell_type": "code",
   "execution_count": null,
   "id": "ed943810",
   "metadata": {},
   "outputs": [],
   "source": [
    "np.random.rand(5) #create an array of 5 random numbers between 0 and 1"
   ]
  },
  {
   "cell_type": "code",
   "execution_count": null,
   "id": "3236ada3",
   "metadata": {},
   "outputs": [],
   "source": [
    "np.random.randn(5) #create an array of 5 random numbers from a standard normal distribution"
   ]
  },
  {
   "cell_type": "code",
   "execution_count": null,
   "id": "eeddffdf",
   "metadata": {},
   "outputs": [],
   "source": [
    "np.random.randint(1,100,5) #create an array of 5 random integers between 1 and 100"
   ]
  },
  {
   "cell_type": "code",
   "execution_count": null,
   "id": "d25bd82e",
   "metadata": {},
   "outputs": [],
   "source": [
    "np.random.seed(42) #set a seed for reproducibility\n",
    "np.random.rand(4) #create an array of 5 random numbers between 0 and 1 with the seed set"
   ]
  },
  {
   "cell_type": "code",
   "execution_count": null,
   "id": "e7e38978",
   "metadata": {},
   "outputs": [],
   "source": [
    "arr = np.arange(0,25)"
   ]
  },
  {
   "cell_type": "code",
   "execution_count": null,
   "id": "5bc0f4a3",
   "metadata": {},
   "outputs": [],
   "source": [
    "arr.reshape(5,5) #reshape the array into a 5x5 matrix"
   ]
  },
  {
   "cell_type": "code",
   "execution_count": null,
   "id": "837c60f5",
   "metadata": {},
   "outputs": [],
   "source": [
    "ranarr = np.random.randint(0,101, 10) #create an array of 10 random integers between 0 and 50"
   ]
  },
  {
   "cell_type": "code",
   "execution_count": null,
   "id": "ea106b4a",
   "metadata": {},
   "outputs": [],
   "source": [
    "ranarr.max() #find the maximum value in the array"
   ]
  },
  {
   "cell_type": "code",
   "execution_count": null,
   "id": "24e25e25",
   "metadata": {},
   "outputs": [],
   "source": [
    "ranarr.min() #find the minimum value in the array"
   ]
  },
  {
   "cell_type": "code",
   "execution_count": null,
   "id": "22621d4a",
   "metadata": {},
   "outputs": [],
   "source": [
    "arr = np.arange(0, 11)"
   ]
  },
  {
   "cell_type": "code",
   "execution_count": null,
   "id": "e2d85527",
   "metadata": {},
   "outputs": [],
   "source": [
    "arr"
   ]
  },
  {
   "cell_type": "code",
   "execution_count": null,
   "id": "e1926c05",
   "metadata": {},
   "outputs": [],
   "source": [
    "arr[8]"
   ]
  },
  {
   "cell_type": "code",
   "execution_count": null,
   "id": "55b839dd",
   "metadata": {},
   "outputs": [],
   "source": [
    "arr[1:5] #slice the array from index 1 to 4"
   ]
  },
  {
   "cell_type": "code",
   "execution_count": null,
   "id": "460ae0c1",
   "metadata": {},
   "outputs": [],
   "source": [
    "arr[:5]"
   ]
  }
 ],
 "metadata": {
  "kernelspec": {
   "display_name": ".venv",
   "language": "python",
   "name": "python3"
  },
  "language_info": {
   "codemirror_mode": {
    "name": "ipython",
    "version": 3
   },
   "file_extension": ".py",
   "mimetype": "text/x-python",
   "name": "python",
   "nbconvert_exporter": "python",
   "pygments_lexer": "ipython3",
   "version": "3.11.9"
  }
 },
 "nbformat": 4,
 "nbformat_minor": 5
}
