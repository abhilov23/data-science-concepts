{
 "cells": [
  {
   "cell_type": "code",
   "execution_count": null,
   "id": "c5a5f0cb",
   "metadata": {},
   "outputs": [],
   "source": [
    "import numpy as np"
   ]
  },
  {
   "cell_type": "code",
   "execution_count": null,
   "id": "41d8832d",
   "metadata": {},
   "outputs": [],
   "source": [
    "import pandas as pd"
   ]
  },
  {
   "cell_type": "code",
   "execution_count": null,
   "id": "351660cd",
   "metadata": {},
   "outputs": [],
   "source": [
    " # help(pd.Series)"
   ]
  },
  {
   "cell_type": "code",
   "execution_count": null,
   "id": "cc9eeab9",
   "metadata": {},
   "outputs": [],
   "source": [
    "myindex = ['USA', 'Germany', 'USSR', 'Japan']"
   ]
  },
  {
   "cell_type": "code",
   "execution_count": null,
   "id": "565d69fd",
   "metadata": {},
   "outputs": [],
   "source": [
    "mydata = [1776, 1871, 1922, 1945]"
   ]
  },
  {
   "cell_type": "code",
   "execution_count": null,
   "id": "1eb12f5f",
   "metadata": {},
   "outputs": [],
   "source": [
    "#this is how we can define a series in pandas\n",
    "#it is similar to a dictionary, where the index is the key and the data is the value\n",
    "myser = pd.Series(data=mydata, index=myindex) #defining the series and its position"
   ]
  },
  {
   "cell_type": "code",
   "execution_count": null,
   "id": "67cb4992",
   "metadata": {},
   "outputs": [],
   "source": [
    "myser"
   ]
  },
  {
   "cell_type": "code",
   "execution_count": null,
   "id": "d0e020d3",
   "metadata": {},
   "outputs": [],
   "source": [
    "myser['USA']"
   ]
  },
  {
   "cell_type": "code",
   "execution_count": null,
   "id": "7830aeaa",
   "metadata": {},
   "outputs": [],
   "source": [
    "#this is a dictionary\n",
    "ages={'Sam':5, 'Frank':10, 'Tina':15, 'Tom':20}"
   ]
  },
  {
   "cell_type": "code",
   "execution_count": null,
   "id": "cab82c0c",
   "metadata": {},
   "outputs": [],
   "source": [
    "#and we can directly convert a dictionary into a pandas series\n",
    "pd.Series(ages)"
   ]
  }
 ],
 "metadata": {
  "kernelspec": {
   "display_name": ".venv",
   "language": "python",
   "name": "python3"
  },
  "language_info": {
   "codemirror_mode": {
    "name": "ipython",
    "version": 3
   },
   "file_extension": ".py",
   "mimetype": "text/x-python",
   "name": "python",
   "nbconvert_exporter": "python",
   "pygments_lexer": "ipython3",
   "version": "3.11.9"
  }
 },
 "nbformat": 4,
 "nbformat_minor": 5
}
