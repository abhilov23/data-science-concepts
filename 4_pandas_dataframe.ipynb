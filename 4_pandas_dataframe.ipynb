{
 "cells": [
  {
   "cell_type": "code",
   "execution_count": null,
   "id": "82ec5c52",
   "metadata": {},
   "outputs": [],
   "source": [
    "import numpy as np\n",
    "import pandas as pd"
   ]
  },
  {
   "cell_type": "code",
   "execution_count": null,
   "id": "fce31175",
   "metadata": {},
   "outputs": [],
   "source": [
    "np.random.seed(101)\n",
    "mydata = np.random.randint(0, 100, (4, 3)) #random integers between 0 and 100, 4 rows and 3 columns"
   ]
  },
  {
   "cell_type": "code",
   "execution_count": null,
   "id": "b86e7ff4",
   "metadata": {},
   "outputs": [],
   "source": [
    "mydata"
   ]
  },
  {
   "cell_type": "code",
   "execution_count": null,
   "id": "7b2f0d8d",
   "metadata": {},
   "outputs": [],
   "source": [
    "myindex = ['CA', 'NY', 'TX', 'FL']\n",
    "mycolumns = ['jan', 'feb', 'mar']"
   ]
  },
  {
   "cell_type": "code",
   "execution_count": null,
   "id": "d815da43",
   "metadata": {},
   "outputs": [],
   "source": [
    "# Creating a DataFrame with the random data, index, and columns\n",
    "df = pd.DataFrame(mydata, index=myindex, columns=mycolumns)\n",
    "df"
   ]
  },
  {
   "cell_type": "code",
   "execution_count": null,
   "id": "1565df93",
   "metadata": {},
   "outputs": [],
   "source": [
    "df.info() #information about the DataFrame, including data types and non-null counts"
   ]
  },
  {
   "cell_type": "code",
   "execution_count": null,
   "id": "62b14675",
   "metadata": {},
   "outputs": [],
   "source": [
    "df = pd.read_csv('4_tips.csv')\n"
   ]
  },
  {
   "cell_type": "code",
   "execution_count": null,
   "id": "203391b9",
   "metadata": {},
   "outputs": [],
   "source": [
    "df"
   ]
  },
  {
   "cell_type": "code",
   "execution_count": null,
   "id": "b59fb53f",
   "metadata": {},
   "outputs": [],
   "source": [
    "df.columns #list of columns in the DataFrame"
   ]
  },
  {
   "cell_type": "code",
   "execution_count": null,
   "id": "f55a275a",
   "metadata": {},
   "outputs": [],
   "source": [
    "df.index #index of the DataFrame"
   ]
  },
  {
   "cell_type": "code",
   "execution_count": null,
   "id": "ea9ae6b0",
   "metadata": {},
   "outputs": [],
   "source": [
    "df.head(10) #first 10 rows of the DataFrame"
   ]
  },
  {
   "cell_type": "code",
   "execution_count": null,
   "id": "635a5f9a",
   "metadata": {},
   "outputs": [],
   "source": [
    "df.tail(10) #last 10 rows of the DataFrame"
   ]
  },
  {
   "cell_type": "code",
   "execution_count": null,
   "id": "b3749136",
   "metadata": {},
   "outputs": [],
   "source": [
    "df.describe() #statistical summary of the DataFrame, including count, mean, std, min, 25%, 50%, 75%, max"
   ]
  },
  {
   "cell_type": "markdown",
   "id": "e7ab1220",
   "metadata": {},
   "source": [
    "# Columns"
   ]
  },
  {
   "cell_type": "code",
   "execution_count": null,
   "id": "8f7730ff",
   "metadata": {},
   "outputs": [],
   "source": [
    "df.head()"
   ]
  },
  {
   "cell_type": "code",
   "execution_count": null,
   "id": "cb5996a8",
   "metadata": {},
   "outputs": [],
   "source": [
    "type(df['total_bill'])"
   ]
  },
  {
   "cell_type": "code",
   "execution_count": null,
   "id": "b398d162",
   "metadata": {},
   "outputs": [],
   "source": [
    "mycols = ['total_bill', 'tip']\n",
    "df[mycols]"
   ]
  },
  {
   "cell_type": "code",
   "execution_count": null,
   "id": "ce9d717d",
   "metadata": {},
   "outputs": [],
   "source": [
    "100 * df['tip']  / df['total_bill'] #can perform operations on columns, e.g., calculating the percentage of tip relative to total bill "
   ]
  },
  {
   "cell_type": "code",
   "execution_count": null,
   "id": "cae13a55",
   "metadata": {},
   "outputs": [],
   "source": [
    "df['tip_percentage'] = 100 * df['tip'] / df['total_bill'] #adding a new column for tip percentage"
   ]
  },
  {
   "cell_type": "code",
   "execution_count": null,
   "id": "f8a37f1f",
   "metadata": {},
   "outputs": [],
   "source": [
    "df"
   ]
  },
  {
   "cell_type": "code",
   "execution_count": null,
   "id": "eaaa462d",
   "metadata": {},
   "outputs": [],
   "source": [
    "df['price_per_person'] = np.round(df['total_bill'] / df['size'], 2) #adding a new column for price per person, rounded to 2 decimal places"
   ]
  },
  {
   "cell_type": "code",
   "execution_count": null,
   "id": "3f211c06",
   "metadata": {},
   "outputs": [],
   "source": [
    "df"
   ]
  },
  {
   "cell_type": "code",
   "execution_count": null,
   "id": "e9b86ce0",
   "metadata": {},
   "outputs": [],
   "source": [
    "#axis=1 means we are dropping a column, axis=0 would mean dropping a row\n",
    "#inplace=True means we are modifying the original DataFrame, not creating a new one\n",
    "df.drop('tip_percentage', axis=1, inplace=True) #removing the 'price_per_person' column from the DataFrame\n",
    "\n",
    "df"
   ]
  },
  {
   "cell_type": "code",
   "execution_count": null,
   "id": "e4721dd7",
   "metadata": {},
   "outputs": [],
   "source": [
    "df.index"
   ]
  },
  {
   "cell_type": "code",
   "execution_count": null,
   "id": "3f35ec80",
   "metadata": {},
   "outputs": [],
   "source": [
    "df = df.set_index(\"Payment ID\") #setting 'Payment ID' as the index of the DataFrame"
   ]
  },
  {
   "cell_type": "code",
   "execution_count": null,
   "id": "94b65b25",
   "metadata": {},
   "outputs": [],
   "source": [
    "df.head() #first 5 rows of the DataFrame"
   ]
  },
  {
   "cell_type": "code",
   "execution_count": null,
   "id": "7f0b7496",
   "metadata": {},
   "outputs": [],
   "source": [
    "df = df.reset_index() #resetting the index of the DataFrame, converting the index back to a column"
   ]
  },
  {
   "cell_type": "code",
   "execution_count": null,
   "id": "67b71c54",
   "metadata": {},
   "outputs": [],
   "source": [
    "df.iloc[0] #accessing the first row of the DataFrame using integer-location based indexing"
   ]
  },
  {
   "cell_type": "code",
   "execution_count": null,
   "id": "9fc522c1",
   "metadata": {},
   "outputs": [],
   "source": [
    "df.loc['Sun2959'] #accessing the first row of the DataFrame using label-based indexing"
   ]
  },
  {
   "cell_type": "code",
   "execution_count": null,
   "id": "ccf96eca",
   "metadata": {},
   "outputs": [],
   "source": [
    "df.iloc[0:4] #accessing the first 4 rows of the DataFrame using integer-location based indexing"
   ]
  },
  {
   "cell_type": "code",
   "execution_count": null,
   "id": "4d1b3e22",
   "metadata": {},
   "outputs": [],
   "source": [
    "df.loc[['Sun2959', 'Sun5260']] #accessing specific rows by their labels"
   ]
  },
  {
   "cell_type": "code",
   "execution_count": null,
   "id": "dfc559cc",
   "metadata": {},
   "outputs": [],
   "source": [
    "df = df.drop('Sun2959', axis=0) #removing the row with label 'Sun2959' from the DataFrame"
   ]
  },
  {
   "cell_type": "code",
   "execution_count": null,
   "id": "95b75f96",
   "metadata": {},
   "outputs": [],
   "source": [
    "one_row = df.iloc[0] #accessing the first row of the DataFrame"
   ]
  },
  {
   "cell_type": "code",
   "execution_count": null,
   "id": "c0fd6474",
   "metadata": {},
   "outputs": [],
   "source": [
    "one_row"
   ]
  }
 ],
 "metadata": {
  "kernelspec": {
   "display_name": ".venv",
   "language": "python",
   "name": "python3"
  },
  "language_info": {
   "codemirror_mode": {
    "name": "ipython",
    "version": 3
   },
   "file_extension": ".py",
   "mimetype": "text/x-python",
   "name": "python",
   "nbconvert_exporter": "python",
   "pygments_lexer": "ipython3",
   "version": "3.11.9"
  }
 },
 "nbformat": 4,
 "nbformat_minor": 5
}
