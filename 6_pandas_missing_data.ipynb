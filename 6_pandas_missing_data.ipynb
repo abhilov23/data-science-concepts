{
 "cells": [
  {
   "cell_type": "markdown",
   "id": "0c762b8e",
   "metadata": {},
   "source": [
    "## Dealing with Missing Data\n",
    "\n",
    "\n",
    "### When reading in missing values, pandas will display them as NaN values.\n",
    "### There are also newer specialized null pandas values such as pd.NaT to imply the value missing should be a timestamp."
   ]
  },
  {
   "cell_type": "markdown",
   "id": "5f9f6aa5",
   "metadata": {},
   "source": [
    "Options for missing Data:\n",
    "-  1. Keep them\n",
    "-  2. Remove them\n",
    "-   3. Replace them with a value\n",
    "-   4. Replace them with a statistic (mean, median, mode)\n",
    "-   5. Use interpolation to estimate the missing values\n",
    "-   6. Use machine learning models to predict the missing values\n",
    "-   7. Use domain knowledge to fill in the missing values"
   ]
  },
  {
   "cell_type": "markdown",
   "id": "a0a234a3",
   "metadata": {},
   "source": [
    "Keeping a missing data:\n",
    "* Pros:\n",
    "  - Easiest to do\n",
    "  - Does not manipulate or change the true data\n",
    "* Cons:\n",
    "  - Many methods do not support NaN\n",
    "  - Often there are reasonable guesses\n",
    "\n",
    "Dropping or removing the missing data:(Makes sense when a lot of data is missing)\n",
    "* Pros: \n",
    "  - Easy to do\n",
    "  - Can do based on rules\n",
    "* Cons:\n",
    "  - Potential to lose a lot of dat or useful information\n",
    "  - Limits trained models for future data.\n",
    "\n",
    "(Often a good idea to calculate the percent of data which is missing)\n",
    "\n",
    "\n",
    "Filling the missing data:\n",
    "* Pros:\n",
    "  - Potential to save a lot of data for use in training a model\n",
    "* Cons:\n",
    "  - Hardest to do and somewhat arbitrary\n",
    "  - Potential to lead to false conclusions\n",
    "\n",
    "* Filling the same value => good choice if NaN was a placeholder\n",
    "* Filling with interpolated or estimated value => much harder and requires reasonable assumptions\n",
    "\n"
   ]
  },
  {
   "cell_type": "code",
   "execution_count": 1,
   "id": "6351f0ba",
   "metadata": {},
   "outputs": [],
   "source": [
    "import numpy as np\n",
    "import pandas as pd"
   ]
  },
  {
   "cell_type": "code",
   "execution_count": 2,
   "id": "fea249e3",
   "metadata": {},
   "outputs": [],
   "source": [
    "df = pd.read_csv('4_tips.csv')"
   ]
  },
  {
   "cell_type": "code",
   "execution_count": null,
   "id": "4ee4dc70",
   "metadata": {},
   "outputs": [],
   "source": []
  }
 ],
 "metadata": {
  "kernelspec": {
   "display_name": ".venv",
   "language": "python",
   "name": "python3"
  },
  "language_info": {
   "codemirror_mode": {
    "name": "ipython",
    "version": 3
   },
   "file_extension": ".py",
   "mimetype": "text/x-python",
   "name": "python",
   "nbconvert_exporter": "python",
   "pygments_lexer": "ipython3",
   "version": "3.11.9"
  }
 },
 "nbformat": 4,
 "nbformat_minor": 5
}
