{
 "cells": [
  {
   "cell_type": "code",
   "execution_count": null,
   "id": "0d79946a",
   "metadata": {},
   "outputs": [],
   "source": [
    "import numpy as np\n",
    "import pandas as pd"
   ]
  },
  {
   "cell_type": "code",
   "execution_count": null,
   "id": "c8fcaff5",
   "metadata": {},
   "outputs": [],
   "source": [
    "from sqlalchemy import create_engine"
   ]
  },
  {
   "cell_type": "code",
   "execution_count": null,
   "id": "21aea155",
   "metadata": {},
   "outputs": [],
   "source": [
    "temp_db = create_engine('sqlite:///:memory:')  # Create an in-memory SQLite database"
   ]
  },
  {
   "cell_type": "code",
   "execution_count": null,
   "id": "bc65a1d6",
   "metadata": {},
   "outputs": [],
   "source": [
    "df = pd.DataFrame(data=np.random.randint(0, 100, size=(4, 4)), columns=['A','B', 'C', 'D'])"
   ]
  },
  {
   "cell_type": "code",
   "execution_count": null,
   "id": "c1f0f706",
   "metadata": {},
   "outputs": [],
   "source": [
    "df.to_sql(name='new_table', con=temp_db) # Write the DataFrame to the SQL table"
   ]
  },
  {
   "cell_type": "code",
   "execution_count": null,
   "id": "04aa87cb",
   "metadata": {},
   "outputs": [],
   "source": [
    "new_df = pd.read_sql(sql='new_table', con=temp_db) # Read the SQL table into a DataFrame\n",
    "new_df"
   ]
  },
  {
   "cell_type": "code",
   "execution_count": null,
   "id": "f0a49238",
   "metadata": {},
   "outputs": [],
   "source": [
    "pd.read_sql_query(sql='SELECT a,c FROM new_table', con=temp_db) # Read specific columns from the SQL table"
   ]
  }
 ],
 "metadata": {
  "kernelspec": {
   "display_name": ".venv",
   "language": "python",
   "name": "python3"
  },
  "language_info": {
   "codemirror_mode": {
    "name": "ipython",
    "version": 3
   },
   "file_extension": ".py",
   "mimetype": "text/x-python",
   "name": "python",
   "nbconvert_exporter": "python",
   "pygments_lexer": "ipython3",
   "version": "3.11.9"
  }
 },
 "nbformat": 4,
 "nbformat_minor": 5
}
